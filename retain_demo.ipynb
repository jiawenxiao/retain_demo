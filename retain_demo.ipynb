{
 "cells": [
  {
   "cell_type": "code",
   "execution_count": 1,
   "metadata": {
    "ExecuteTime": {
     "end_time": "2020-01-08T07:48:27.513707Z",
     "start_time": "2020-01-08T07:48:24.351214Z"
    }
   },
   "outputs": [
    {
     "name": "stderr",
     "output_type": "stream",
     "text": [
      "/data/anaconda3/lib/python3.6/site-packages/h5py/__init__.py:36: FutureWarning: Conversion of the second argument of issubdtype from `float` to `np.floating` is deprecated. In future, it will be treated as `np.float64 == np.dtype(float).type`.\n",
      "  from ._conv import register_converters as _register_converters\n",
      "Using TensorFlow backend.\n"
     ]
    }
   ],
   "source": [
    "import numpy as np \n",
    "import pandas as pd \n",
    "import random\n",
    "from keras.layers import merge\n",
    "from keras.layers.recurrent import LSTM\n",
    "import keras.backend as K\n",
    "from keras.layers import BatchNormalization,concatenate,Flatten,Concatenate,Activation,Conv1D,Add ,MaxPooling1D,Masking,GRU\n",
    "from keras.layers.core import Lambda, Dense, Activation\n",
    "from keras.layers.wrappers import TimeDistributed\n",
    "from keras.optimizers import Adam,RMSprop    \n",
    "from keras.models import Model\n",
    "from keras.layers import Input,Dropout,GlobalMaxPooling1D\n",
    "from keras.callbacks import Callback,EarlyStopping\n",
    "\n",
    "import tensorflow as tf\n",
    "from tensorflow import set_random_seed   "
   ]
  },
  {
   "cell_type": "code",
   "execution_count": 52,
   "metadata": {
    "ExecuteTime": {
     "end_time": "2020-01-08T08:49:07.533852Z",
     "start_time": "2020-01-08T08:48:45.691130Z"
    }
   },
   "outputs": [
    {
     "name": "stderr",
     "output_type": "stream",
     "text": [
      "/data/anaconda3/lib/python3.6/site-packages/tensorflow/python/client/session.py:1719: UserWarning: An interactive session is already active. This can cause out-of-memory errors in some cases. You must explicitly call `InteractiveSession.close()` to release resources held by the other session(s).\n",
      "  warnings.warn('An interactive session is already active. This can '\n"
     ]
    },
    {
     "name": "stdout",
     "output_type": "stream",
     "text": [
      "0.7045434153079987\n"
     ]
    }
   ],
   "source": [
    "batch_size=64\n",
    "alphaHiddenDimSize=12\n",
    "betaHiddenDimSize=12\n",
    "embDimSize=6\n",
    "timeseq=32\n",
    "is_attention=True\n",
    "\n",
    "x =np.random.random((3200,32,6)).astype(np.float32)\n",
    "y =np.vstack([np.zeros((1600,1)),np.ones((1600,1))]).astype(np.float32)\n",
    "\n",
    "\n",
    "w_alpha = tf.Variable(tf.random_normal([alphaHiddenDimSize, 1]),name='w_alpha')\n",
    "b_alpha = tf.Variable(tf.zeros([1]),name='b_alpha')\n",
    "w_beta = tf.Variable(tf.random_normal([betaHiddenDimSize, embDimSize]),name='w_beta') \n",
    "b_beta =tf.Variable(tf.zeros([embDimSize]),name='b_beta')\n",
    "\n",
    "\n",
    "data   = tf.placeholder(tf.float32, [None,timeseq, embDimSize],name='data')\n",
    "label  = tf.placeholder(tf.float32, [None,1],name='target') \n",
    "\n",
    "if is_attention:\n",
    "    data_reverse = data[:,::-1,:]\n",
    "    reverse_h_a = GRU(alphaHiddenDimSize, return_sequences=True)(data_reverse)\n",
    "    reverse_h_a = reverse_h_a[:,::-1,:]*0.5\n",
    "    reverse_h_b = GRU(betaHiddenDimSize, return_sequences=True)(data_reverse)\n",
    "    reverse_h_b = reverse_h_b[:,::-1,:]*0.5\n",
    "    alpha_total=[]\n",
    "    beta_total=[]\n",
    "    for i in range(timeseq):\n",
    "        reverse_a_time=reverse_h_a[:,i,:]   \n",
    "        preAlpha = tf.matmul(reverse_a_time,w_alpha)+b_alpha\n",
    "        alpha_total.append(preAlpha)\n",
    "\n",
    "        reverse_b_time=reverse_h_b[:,i,:]\n",
    "        prebeta = tf.matmul(reverse_b_time,w_beta)+b_beta\n",
    "        prebeta = Activation('tanh')(prebeta) \n",
    "        beta_total.append(prebeta)\n",
    "        \n",
    "    outlist = tf.reshape(tf.stack(alpha_total, axis=1),(-1,timeseq))\n",
    "    alpha    = Activation('softmax')(outlist)  \n",
    "    beta = tf.stack(beta_total, axis=1)\n",
    "    c_t = (alpha[:,:,None]* beta * data)\n",
    "    c_t = K.sum(c_t,axis=1)\n",
    "    y_hat = Dense(1)(c_t)\n",
    "else:\n",
    "    c_t = GRU(alphaHiddenDimSize, return_sequences=False)(data)\n",
    "    y_hat = Dense(1)(c_t)\n",
    "loss = tf.reduce_mean(tf.nn.sigmoid_cross_entropy_with_logits(labels=label,logits=y_hat))\n",
    "solver = tf.train.RMSPropOptimizer(learning_rate=0.001).minimize(loss) \n",
    "\n",
    "\n",
    "sess = tf.InteractiveSession()\n",
    "tf.global_variables_initializer().run()\n",
    "\n",
    "total_batch=int(x.shape[0]/batch_size)\n",
    "total_cost=0\n",
    "\n",
    "attention_total=np.zeros((0,32,6))\n",
    "for i in range(total_batch):\n",
    "    x_batch=x[i*batch_size:(i+1)*batch_size]\n",
    "    y_batch=y[i*batch_size:(i+1)*batch_size]\n",
    "    \n",
    "    if is_attention:\n",
    "        _,current_loss,current_alpha,current_beta=sess.run([solver, loss,alpha,beta],  \n",
    "                                           feed_dict={data:x_batch,label:y_batch}) \n",
    "\n",
    "        attention_weight=current_alpha[:,:,None]* current_beta\n",
    "        attention_total=np.vstack([attention_total,attention_weight])\n",
    "    else:   \n",
    "        _,current_loss=sess.run([solver, loss], feed_dict={data:x_batch,label:y_batch})     \n",
    "    \n",
    "    total_cost+=current_loss\n",
    "    avg_cost=total_cost/(i+1)\n",
    "\n",
    "#查看平均注意力\n",
    "# avg_attention_weight=np.mean(attention_total,axis=0)\n",
    "print(avg_cost)"
   ]
  },
  {
   "cell_type": "code",
   "execution_count": null,
   "metadata": {},
   "outputs": [],
   "source": []
  }
 ],
 "metadata": {
  "kernelspec": {
   "display_name": "Python 3",
   "language": "python",
   "name": "python3"
  },
  "language_info": {
   "codemirror_mode": {
    "name": "ipython",
    "version": 3
   },
   "file_extension": ".py",
   "mimetype": "text/x-python",
   "name": "python",
   "nbconvert_exporter": "python",
   "pygments_lexer": "ipython3",
   "version": "3.6.8"
  }
 },
 "nbformat": 4,
 "nbformat_minor": 2
}
